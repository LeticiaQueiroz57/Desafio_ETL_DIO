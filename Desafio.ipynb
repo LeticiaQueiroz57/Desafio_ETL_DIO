{
 "cells": [
  {
   "cell_type": "markdown",
   "metadata": {},
   "source": [
    "# Desafio - Explorando IA generativa em um pipeline de ETL com Python"
   ]
  },
  {
   "cell_type": "code",
   "execution_count": 6,
   "metadata": {},
   "outputs": [],
   "source": [
    "import pandas as pd\n",
    "import json\n",
    "import requests"
   ]
  },
  {
   "cell_type": "code",
   "execution_count": null,
   "metadata": {},
   "outputs": [],
   "source": [
    "#Repositório da API do desafio: https://github.com/digitalinnovationone/santander-dev-week-2023-api\n",
    "sdw2023_api_url = 'https://sdw-2023-prd.up.railway.app/'"
   ]
  },
  {
   "cell_type": "markdown",
   "metadata": {},
   "source": [
    "## Ponto inicial da planilha"
   ]
  },
  {
   "cell_type": "code",
   "execution_count": 7,
   "metadata": {},
   "outputs": [
    {
     "data": {
      "text/html": [
       "<div>\n",
       "<style scoped>\n",
       "    .dataframe tbody tr th:only-of-type {\n",
       "        vertical-align: middle;\n",
       "    }\n",
       "\n",
       "    .dataframe tbody tr th {\n",
       "        vertical-align: top;\n",
       "    }\n",
       "\n",
       "    .dataframe thead th {\n",
       "        text-align: right;\n",
       "    }\n",
       "</style>\n",
       "<table border=\"1\" class=\"dataframe\">\n",
       "  <thead>\n",
       "    <tr style=\"text-align: right;\">\n",
       "      <th></th>\n",
       "      <th>UserID</th>\n",
       "    </tr>\n",
       "  </thead>\n",
       "  <tbody>\n",
       "    <tr>\n",
       "      <th>0</th>\n",
       "      <td>1</td>\n",
       "    </tr>\n",
       "    <tr>\n",
       "      <th>1</th>\n",
       "      <td>2</td>\n",
       "    </tr>\n",
       "    <tr>\n",
       "      <th>2</th>\n",
       "      <td>3</td>\n",
       "    </tr>\n",
       "    <tr>\n",
       "      <th>3</th>\n",
       "      <td>4</td>\n",
       "    </tr>\n",
       "    <tr>\n",
       "      <th>4</th>\n",
       "      <td>5</td>\n",
       "    </tr>\n",
       "  </tbody>\n",
       "</table>\n",
       "</div>"
      ],
      "text/plain": [
       "   UserID\n",
       "0       1\n",
       "1       2\n",
       "2       3\n",
       "3       4\n",
       "4       5"
      ]
     },
     "execution_count": 7,
     "metadata": {},
     "output_type": "execute_result"
    }
   ],
   "source": [
    "df = pd.read_csv('Planilha_simples.csv')\n",
    "df"
   ]
  },
  {
   "cell_type": "code",
   "execution_count": 11,
   "metadata": {},
   "outputs": [
    {
     "data": {
      "text/plain": [
       "[1, 2, 3, 4, 5]"
      ]
     },
     "execution_count": 11,
     "metadata": {},
     "output_type": "execute_result"
    }
   ],
   "source": [
    "user_ids = df['UserID'].tolist()\n",
    "user_ids"
   ]
  },
  {
   "cell_type": "markdown",
   "metadata": {},
   "source": [
    "## Extract"
   ]
  },
  {
   "cell_type": "code",
   "execution_count": 12,
   "metadata": {},
   "outputs": [
    {
     "ename": "NameError",
     "evalue": "name 'requests' is not defined",
     "output_type": "error",
     "traceback": [
      "\u001b[1;31m---------------------------------------------------------------------------\u001b[0m",
      "\u001b[1;31mNameError\u001b[0m                                 Traceback (most recent call last)",
      "\u001b[1;32mc:\\Users\\letic\\Desktop\\Workspace\\DIO\\Ciência de dados com python\\IA Generativa em um Pipeline de ETL com Python\\Desafio.ipynb Cell 7\u001b[0m line \u001b[0;36m5\n\u001b[0;32m      <a href='vscode-notebook-cell:/c%3A/Users/letic/Desktop/Workspace/DIO/Ci%C3%AAncia%20de%20dados%20com%20python/IA%20Generativa%20em%20um%20Pipeline%20de%20ETL%20com%20Python/Desafio.ipynb#X15sZmlsZQ%3D%3D?line=1'>2</a>\u001b[0m   response \u001b[39m=\u001b[39m requests\u001b[39m.\u001b[39mget(\u001b[39mf\u001b[39m\u001b[39m'\u001b[39m\u001b[39m{\u001b[39;00msdw2023_api_url\u001b[39m}\u001b[39;00m\u001b[39m/users/\u001b[39m\u001b[39m{\u001b[39;00m\u001b[39mid\u001b[39m\u001b[39m}\u001b[39;00m\u001b[39m'\u001b[39m)\n\u001b[0;32m      <a href='vscode-notebook-cell:/c%3A/Users/letic/Desktop/Workspace/DIO/Ci%C3%AAncia%20de%20dados%20com%20python/IA%20Generativa%20em%20um%20Pipeline%20de%20ETL%20com%20Python/Desafio.ipynb#X15sZmlsZQ%3D%3D?line=2'>3</a>\u001b[0m   \u001b[39mreturn\u001b[39;00m response\u001b[39m.\u001b[39mjson() \u001b[39mif\u001b[39;00m response\u001b[39m.\u001b[39mstatus_code \u001b[39m==\u001b[39m \u001b[39m200\u001b[39m \u001b[39melse\u001b[39;00m \u001b[39mNone\u001b[39;00m\n\u001b[1;32m----> <a href='vscode-notebook-cell:/c%3A/Users/letic/Desktop/Workspace/DIO/Ci%C3%AAncia%20de%20dados%20com%20python/IA%20Generativa%20em%20um%20Pipeline%20de%20ETL%20com%20Python/Desafio.ipynb#X15sZmlsZQ%3D%3D?line=4'>5</a>\u001b[0m users \u001b[39m=\u001b[39m [user \u001b[39mfor\u001b[39;49;00m \u001b[39mid\u001b[39;49m \u001b[39min\u001b[39;49;00m user_ids \u001b[39mif\u001b[39;49;00m (user \u001b[39m:=\u001b[39;49m get_user(\u001b[39mid\u001b[39;49m)) \u001b[39mis\u001b[39;49;00m \u001b[39mnot\u001b[39;49;00m \u001b[39mNone\u001b[39;49;00m]\n\u001b[0;32m      <a href='vscode-notebook-cell:/c%3A/Users/letic/Desktop/Workspace/DIO/Ci%C3%AAncia%20de%20dados%20com%20python/IA%20Generativa%20em%20um%20Pipeline%20de%20ETL%20com%20Python/Desafio.ipynb#X15sZmlsZQ%3D%3D?line=5'>6</a>\u001b[0m \u001b[39mprint\u001b[39m(json\u001b[39m.\u001b[39mdumps(users, indent\u001b[39m=\u001b[39m\u001b[39m2\u001b[39m))\n",
      "\u001b[1;32mc:\\Users\\letic\\Desktop\\Workspace\\DIO\\Ciência de dados com python\\IA Generativa em um Pipeline de ETL com Python\\Desafio.ipynb Cell 7\u001b[0m line \u001b[0;36m5\n\u001b[0;32m      <a href='vscode-notebook-cell:/c%3A/Users/letic/Desktop/Workspace/DIO/Ci%C3%AAncia%20de%20dados%20com%20python/IA%20Generativa%20em%20um%20Pipeline%20de%20ETL%20com%20Python/Desafio.ipynb#X15sZmlsZQ%3D%3D?line=1'>2</a>\u001b[0m   response \u001b[39m=\u001b[39m requests\u001b[39m.\u001b[39mget(\u001b[39mf\u001b[39m\u001b[39m'\u001b[39m\u001b[39m{\u001b[39;00msdw2023_api_url\u001b[39m}\u001b[39;00m\u001b[39m/users/\u001b[39m\u001b[39m{\u001b[39;00m\u001b[39mid\u001b[39m\u001b[39m}\u001b[39;00m\u001b[39m'\u001b[39m)\n\u001b[0;32m      <a href='vscode-notebook-cell:/c%3A/Users/letic/Desktop/Workspace/DIO/Ci%C3%AAncia%20de%20dados%20com%20python/IA%20Generativa%20em%20um%20Pipeline%20de%20ETL%20com%20Python/Desafio.ipynb#X15sZmlsZQ%3D%3D?line=2'>3</a>\u001b[0m   \u001b[39mreturn\u001b[39;00m response\u001b[39m.\u001b[39mjson() \u001b[39mif\u001b[39;00m response\u001b[39m.\u001b[39mstatus_code \u001b[39m==\u001b[39m \u001b[39m200\u001b[39m \u001b[39melse\u001b[39;00m \u001b[39mNone\u001b[39;00m\n\u001b[1;32m----> <a href='vscode-notebook-cell:/c%3A/Users/letic/Desktop/Workspace/DIO/Ci%C3%AAncia%20de%20dados%20com%20python/IA%20Generativa%20em%20um%20Pipeline%20de%20ETL%20com%20Python/Desafio.ipynb#X15sZmlsZQ%3D%3D?line=4'>5</a>\u001b[0m users \u001b[39m=\u001b[39m [user \u001b[39mfor\u001b[39;00m \u001b[39mid\u001b[39m \u001b[39min\u001b[39;00m user_ids \u001b[39mif\u001b[39;00m (user \u001b[39m:=\u001b[39m get_user(\u001b[39mid\u001b[39;49m)) \u001b[39mis\u001b[39;00m \u001b[39mnot\u001b[39;00m \u001b[39mNone\u001b[39;00m]\n\u001b[0;32m      <a href='vscode-notebook-cell:/c%3A/Users/letic/Desktop/Workspace/DIO/Ci%C3%AAncia%20de%20dados%20com%20python/IA%20Generativa%20em%20um%20Pipeline%20de%20ETL%20com%20Python/Desafio.ipynb#X15sZmlsZQ%3D%3D?line=5'>6</a>\u001b[0m \u001b[39mprint\u001b[39m(json\u001b[39m.\u001b[39mdumps(users, indent\u001b[39m=\u001b[39m\u001b[39m2\u001b[39m))\n",
      "\u001b[1;32mc:\\Users\\letic\\Desktop\\Workspace\\DIO\\Ciência de dados com python\\IA Generativa em um Pipeline de ETL com Python\\Desafio.ipynb Cell 7\u001b[0m line \u001b[0;36m2\n\u001b[0;32m      <a href='vscode-notebook-cell:/c%3A/Users/letic/Desktop/Workspace/DIO/Ci%C3%AAncia%20de%20dados%20com%20python/IA%20Generativa%20em%20um%20Pipeline%20de%20ETL%20com%20Python/Desafio.ipynb#X15sZmlsZQ%3D%3D?line=0'>1</a>\u001b[0m \u001b[39mdef\u001b[39;00m \u001b[39mget_user\u001b[39m(\u001b[39mid\u001b[39m):\n\u001b[1;32m----> <a href='vscode-notebook-cell:/c%3A/Users/letic/Desktop/Workspace/DIO/Ci%C3%AAncia%20de%20dados%20com%20python/IA%20Generativa%20em%20um%20Pipeline%20de%20ETL%20com%20Python/Desafio.ipynb#X15sZmlsZQ%3D%3D?line=1'>2</a>\u001b[0m   response \u001b[39m=\u001b[39m requests\u001b[39m.\u001b[39mget(\u001b[39mf\u001b[39m\u001b[39m'\u001b[39m\u001b[39m{\u001b[39;00msdw2023_api_url\u001b[39m}\u001b[39;00m\u001b[39m/users/\u001b[39m\u001b[39m{\u001b[39;00m\u001b[39mid\u001b[39m\u001b[39m}\u001b[39;00m\u001b[39m'\u001b[39m)\n\u001b[0;32m      <a href='vscode-notebook-cell:/c%3A/Users/letic/Desktop/Workspace/DIO/Ci%C3%AAncia%20de%20dados%20com%20python/IA%20Generativa%20em%20um%20Pipeline%20de%20ETL%20com%20Python/Desafio.ipynb#X15sZmlsZQ%3D%3D?line=2'>3</a>\u001b[0m   \u001b[39mreturn\u001b[39;00m response\u001b[39m.\u001b[39mjson() \u001b[39mif\u001b[39;00m response\u001b[39m.\u001b[39mstatus_code \u001b[39m==\u001b[39m \u001b[39m200\u001b[39m \u001b[39melse\u001b[39;00m \u001b[39mNone\u001b[39;00m\n",
      "\u001b[1;31mNameError\u001b[0m: name 'requests' is not defined"
     ]
    }
   ],
   "source": [
    "def get_user(id):\n",
    "  response = requests.get(f'{sdw2023_api_url}/users/{id}')\n",
    "  return response.json() if response.status_code == 200 else None\n",
    "\n",
    "users = [user for id in user_ids if (user := get_user(id)) is not None]\n",
    "print(json.dumps(users, indent=2))"
   ]
  },
  {
   "cell_type": "code",
   "execution_count": null,
   "metadata": {},
   "outputs": [],
   "source": [
    "openai_api_key = 'TODO'"
   ]
  },
  {
   "cell_type": "markdown",
   "metadata": {},
   "source": [
    "## Transform"
   ]
  },
  {
   "cell_type": "code",
   "execution_count": null,
   "metadata": {},
   "outputs": [],
   "source": [
    "import openai\n",
    "\n",
    "openai.api_key = openai_api_key\n",
    "\n",
    "def generate_ai_news(user):\n",
    "  completion = openai.ChatCompletion.create(\n",
    "    model=\"gpt-4\",\n",
    "    messages=[\n",
    "      {\n",
    "          \"role\": \"system\",\n",
    "          \"content\": \"Você é um especialista em markting bancário.\"\n",
    "      },\n",
    "      {\n",
    "          \"role\": \"user\",\n",
    "          \"content\": f\"Crie uma mensagem para {user['name']} sobre a importância dos investimentos (máximo de 100 caracteres)\"\n",
    "      }\n",
    "    ]\n",
    "  )\n",
    "  return completion.choices[0].message.content.strip('\\\"')\n",
    "\n",
    "for user in users:\n",
    "  news = generate_ai_news(user)\n",
    "  print(news)\n",
    "  user['news'].append({\n",
    "      \"icon\": \"https://digitalinnovationone.github.io/santander-dev-week-2023-api/icons/credit.svg\",\n",
    "      \"description\": news\n",
    "  })"
   ]
  },
  {
   "cell_type": "markdown",
   "metadata": {},
   "source": [
    "## Load"
   ]
  },
  {
   "cell_type": "code",
   "execution_count": null,
   "metadata": {},
   "outputs": [],
   "source": [
    "def update_user(user):\n",
    "  response = requests.put(f\"{sdw2023_api_url}/users/{user['id']}\", json=user)\n",
    "  return True if response.status_code == 200 else False\n",
    "\n",
    "for user in users:\n",
    "  success = update_user(user)\n",
    "  print(f\"User {user['name']} updated? {success}!\")"
   ]
  }
 ],
 "metadata": {
  "kernelspec": {
   "display_name": "Python 3",
   "language": "python",
   "name": "python3"
  },
  "language_info": {
   "codemirror_mode": {
    "name": "ipython",
    "version": 3
   },
   "file_extension": ".py",
   "mimetype": "text/x-python",
   "name": "python",
   "nbconvert_exporter": "python",
   "pygments_lexer": "ipython3",
   "version": "3.11.1"
  }
 },
 "nbformat": 4,
 "nbformat_minor": 2
}
